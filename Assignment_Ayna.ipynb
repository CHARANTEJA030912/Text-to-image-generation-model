{
  "nbformat": 4,
  "nbformat_minor": 0,
  "metadata": {
    "colab": {
      "provenance": [],
      "gpuType": "T4"
    },
    "kernelspec": {
      "name": "python3",
      "display_name": "Python 3"
    },
    "language_info": {
      "name": "python"
    },
    "accelerator": "GPU"
  },
  "cells": [
    {
      "cell_type": "markdown",
      "source": [
        "Installing Necessary Libraries"
      ],
      "metadata": {
        "id": "bnvF3GPTlesW"
      }
    },
    {
      "cell_type": "code",
      "execution_count": null,
      "metadata": {
        "id": "u_m8gsDUtQTT"
      },
      "outputs": [],
      "source": [
        "!pip install gradio transformers diffusers accelerate xformers"
      ]
    },
    {
      "cell_type": "markdown",
      "source": [
        "Importing Libraries\n"
      ],
      "metadata": {
        "id": "jTGTBsxFlrU7"
      }
    },
    {
      "cell_type": "code",
      "source": [
        "from diffusers import StableDiffusionPipeline, StableDiffusionImg2ImgPipeline\n",
        "from PIL import Image\n",
        "import torch\n",
        "import gradio as gr"
      ],
      "metadata": {
        "id": "H8tMuDBquZ0E"
      },
      "execution_count": null,
      "outputs": []
    },
    {
      "cell_type": "markdown",
      "source": [
        "Load the Stable Diffusion Model"
      ],
      "metadata": {
        "id": "gwwNPpU3l7ou"
      }
    },
    {
      "cell_type": "code",
      "source": [
        "def load_model(model_id):\n",
        "    pipe = StableDiffusionPipeline.from_pretrained(model_id, torch_dtype=torch.float16)\n",
        "    pipe = pipe.to(\"cuda\")\n",
        "    return pipe"
      ],
      "metadata": {
        "id": "OC_e7pM8kEna"
      },
      "execution_count": null,
      "outputs": []
    },
    {
      "cell_type": "markdown",
      "source": [
        "Load the Default Model"
      ],
      "metadata": {
        "id": "nAP8KejcmCj3"
      }
    },
    {
      "cell_type": "code",
      "source": [
        "default_model_id = \"stabilityai/stable-diffusion-2-1-base\"  # A model supporting high-resolution generation\n",
        "pipe = load_model(default_model_id)"
      ],
      "metadata": {
        "id": "wsTM1chdkFC_"
      },
      "execution_count": null,
      "outputs": []
    },
    {
      "cell_type": "markdown",
      "source": [
        "Function to Generate High-Resolution Images"
      ],
      "metadata": {
        "id": "zCl1-3oamFyC"
      }
    },
    {
      "cell_type": "code",
      "source": [
        "def generate_high_res_image(prompt, model_id, resolution):\n",
        "    global pipe\n",
        "\n",
        "    # Check if the model ID has changed\n",
        "    if model_id != default_model_id:\n",
        "        pipe = load_model(model_id)\n",
        "\n",
        "    # Generate the image in base resolution (e.g., 512x512)\n",
        "    image = pipe(prompt, guidance_scale=7.5).images[0]\n",
        "\n",
        "    # Upscale the image to desired resolution using bicubic interpolation (fallback)\n",
        "    upscale_factor = resolution // 512\n",
        "    high_res_image = image.resize((512 * upscale_factor, 512 * upscale_factor), Image.BICUBIC)\n",
        "    return high_res_image"
      ],
      "metadata": {
        "id": "-C4oi7ndkFFd"
      },
      "execution_count": null,
      "outputs": []
    },
    {
      "cell_type": "markdown",
      "source": [
        "Gradio Interface"
      ],
      "metadata": {
        "id": "iqufDSQgmMjZ"
      }
    },
    {
      "cell_type": "code",
      "source": [
        "def main_interface():\n",
        "    interface = gr.Interface(\n",
        "        fn=generate_high_res_image,\n",
        "        inputs=[\n",
        "            gr.Textbox(\n",
        "                lines=2,\n",
        "                placeholder=\"Enter your prompt here (e.g., A fashion model walking on a ramp).\",\n",
        "                label=\"Text Prompt\",\n",
        "            ),\n",
        "            gr.Textbox(\n",
        "                value=default_model_id,\n",
        "                label=\"Model ID\",\n",
        "                placeholder=\"Enter the model ID (e.g., stabilityai/stable-diffusion-2-1).\",\n",
        "            ),\n",
        "            gr.Slider(\n",
        "                minimum=512,\n",
        "                maximum=2048,\n",
        "                step=512,\n",
        "                value=2048,\n",
        "                label=\"Output Resolution (Width = Height)\",\n",
        "            ),\n",
        "        ],\n",
        "        outputs=gr.Image(type=\"pil\", label=\"Generated High-Resolution Image\"),\n",
        "        title=\"High-Resolution Text-to-Image Generator\",\n",
        "        description=(\n",
        "            \"This application generates photorealistic images based on text prompts using Stable Diffusion. \"\n",
        "            \"Enter a text description and choose a model to generate an image. The default model is \"\n",
        "            \"'stabilityai/stable-diffusion-2-1-base', and images can be generated at resolutions up to 2048x2048.\"\n",
        "        ),\n",
        "        allow_flagging=\"never\",\n",
        "    )\n",
        "    return interface"
      ],
      "metadata": {
        "id": "C7X0_GTmkFIB"
      },
      "execution_count": null,
      "outputs": []
    },
    {
      "cell_type": "markdown",
      "source": [
        "Launch the Gradio App"
      ],
      "metadata": {
        "id": "Hzc7S-G-mQSC"
      }
    },
    {
      "cell_type": "code",
      "source": [
        "interface = main_interface()\n",
        "interface.launch(debug=True)"
      ],
      "metadata": {
        "id": "ULGwtlSSkFKR"
      },
      "execution_count": null,
      "outputs": []
    },
    {
      "cell_type": "code",
      "source": [],
      "metadata": {
        "id": "_d44aztAkFM2"
      },
      "execution_count": null,
      "outputs": []
    },
    {
      "cell_type": "code",
      "source": [],
      "metadata": {
        "id": "cRqT9w0LkFPU"
      },
      "execution_count": null,
      "outputs": []
    },
    {
      "cell_type": "code",
      "source": [],
      "metadata": {
        "id": "OFjPd_K-kFRj"
      },
      "execution_count": null,
      "outputs": []
    },
    {
      "cell_type": "code",
      "source": [],
      "metadata": {
        "id": "EFRmSasEkFU7"
      },
      "execution_count": null,
      "outputs": []
    }
  ]
}